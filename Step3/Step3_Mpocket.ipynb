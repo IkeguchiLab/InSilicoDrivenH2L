{
 "cells": [
  {
   "cell_type": "code",
   "execution_count": 7,
   "id": "60800805-1c32-4c29-824b-36c78bcf03c6",
   "metadata": {},
   "outputs": [
    {
     "data": {
      "image/png": "[encoded data removed]",
      "text/plain": [
       "<Figure size 350x250 with 1 Axes>"
      ]
     },
     "metadata": {},
     "output_type": "display_data"
    }
   ],
   "source": [
    "import pandas as pd\n",
    "import numpy as np\n",
    "import matplotlib.pyplot as plt\n",
    "from rdkit.Chem import PandasTools\n",
    "\n",
    "# スタイル設定（論文向け）\n",
    "plt.rcParams.update({\n",
    "    \"font.family\": \"serif\",\n",
    "    \"font.size\": 8,\n",
    "    \"axes.labelsize\": 8,\n",
    "    \"axes.titlesize\": 8,\n",
    "    \"xtick.labelsize\": 7,\n",
    "    \"ytick.labelsize\": 7,\n",
    "    \"lines.linewidth\": 1,\n",
    "    \"axes.linewidth\": 0.6\n",
    "})\n",
    "\n",
    "# SDFファイルの読み込み\n",
    "sdf_path = \"Step3_core4_Mpocket_NES_ADME.sdf\"\n",
    "df = PandasTools.LoadSDF(sdf_path)\n",
    "\n",
    "# 数値化（エラーはNaNに）\n",
    "df[\"r_user_DG(MLE)_BAR\"] = pd.to_numeric(df[\"r_user_DG(MLE)_BAR\"], errors=\"coerce\")\n",
    "data = df[\"r_user_DG(MLE)_BAR\"].dropna()\n",
    "\n",
    "# ビン境界（11点）と頻度（10個）\n",
    "bin_edges = [-np.inf, -3, -2, -1, 0, 1, 2, 3, 4, 5, np.inf]\n",
    "counts, _ = np.histogram(data, bins=bin_edges)\n",
    "\n",
    "# 表示用のx座標（左端、無限の代替値をつける）\n",
    "x_lefts = np.array(bin_edges[:-1])\n",
    "x_lefts[0] = -4  # -inf の代替\n",
    "x_lefts[-1] = 5  # +inf の代替\n",
    "\n",
    "# 幅の計算\n",
    "widths = np.array(bin_edges[1:]) - np.array(bin_edges[:-1])\n",
    "widths[0] = 1   # -inf 区間の幅\n",
    "widths[-1] = 1  # +inf 区間の幅\n",
    "\n",
    "# 棒グラフ描画\n",
    "fig, ax = plt.subplots(figsize=(3.5, 2.5))\n",
    "ax.bar(x_lefts, counts, width=widths, align='edge',\n",
    "       color=\"#b0cfe0\", edgecolor=\"black\", linewidth=0.5)\n",
    "bars = ax.bar(x_lefts, counts, width=widths, align='edge',\n",
    "              color=\"#b0cfe0\", edgecolor=\"black\", linewidth=0.5)\n",
    "\n",
    "# x軸ラベル設定\n",
    "xticks = [-3, -2, -1, 0, 1, 2, 3, 4, 5]\n",
    "ax.set_xticks(xticks)\n",
    "ax.set_xticklabels([str(x) for x in xticks])\n",
    "\n",
    "# 軸ラベル\n",
    "ax.set_xlabel(\"ΔG (MLE, BAR) [kcal/mol]\")\n",
    "ax.set_ylabel(\"Frequency\")\n",
    "\n",
    "# 各バーの上に個数表示\n",
    "ax.bar_label(bars, labels=[str(c) for c in counts], fontsize=7, padding=2)\n",
    "\n",
    "# 軸と枠線の設定\n",
    "ax.tick_params(direction=\"in\")\n",
    "for spine in ax.spines.values():\n",
    "    spine.set_visible(True)\n",
    "\n",
    "# レイアウト調整と保存\n",
    "plt.tight_layout()\n",
    "plt.savefig(\"core4_Mpocket_NES_deltaG_histogram_bar.svg\")\n",
    "plt.show()\n"
   ]
  },
  {
   "cell_type": "code",
   "execution_count": 9,
   "id": "0d8d58c5-a889-49b1-b12a-70f251acb033",
   "metadata": {},
   "outputs": [
    {
     "data": {
      "image/png": "[encoded data removed]",
      "text/plain": [
       "<Figure size 350x250 with 1 Axes>"
      ]
     },
     "metadata": {},
     "output_type": "display_data"
    }
   ],
   "source": [
    "import pandas as pd\n",
    "import numpy as np\n",
    "import matplotlib.pyplot as plt\n",
    "from rdkit.Chem import PandasTools\n",
    "\n",
    "# スタイル設定（論文向け）\n",
    "plt.rcParams.update({\n",
    "    \"font.family\": \"serif\",\n",
    "    \"font.size\": 8,\n",
    "    \"axes.labelsize\": 8,\n",
    "    \"axes.titlesize\": 8,\n",
    "    \"xtick.labelsize\": 7,\n",
    "    \"ytick.labelsize\": 7,\n",
    "    \"lines.linewidth\": 1,\n",
    "    \"axes.linewidth\": 0.6\n",
    "})\n",
    "\n",
    "# SDFファイルの読み込み\n",
    "sdf_path = \"Step3_core4_Mpocket_NES_ADME.sdf\"\n",
    "df = PandasTools.LoadSDF(sdf_path)\n",
    "\n",
    "# 数値化（エラーはNaNに）\n",
    "df[\"r_user_DG(MLE)_BAR\"] = pd.to_numeric(df[\"r_user_DG(MLE)_BAR\"], errors=\"coerce\")\n",
    "data = df[\"r_user_DG(MLE)_BAR\"].dropna()\n",
    "\n",
    "# ビン境界（11点）と頻度（10個）\n",
    "bin_edges = [-np.inf, -3, -2, -1, 0, 1, 2, 3, 4, 5, np.inf]\n",
    "counts, _ = np.histogram(data, bins=bin_edges)\n",
    "\n",
    "# 表示用のx座標（左端、無限の代替値をつける）\n",
    "x_lefts = np.array(bin_edges[:-1])\n",
    "x_lefts[0] = -4  # -inf の代替\n",
    "x_lefts[-1] = 5  # +inf の代替\n",
    "\n",
    "# 幅の計算\n",
    "widths = np.array(bin_edges[1:]) - np.array(bin_edges[:-1])\n",
    "widths[0] = 1   # -inf 区間の幅\n",
    "widths[-1] = 1  # +inf 区間の幅\n",
    "\n",
    "# 棒グラフ描画\n",
    "fig, ax = plt.subplots(figsize=(3.5, 2.5))\n",
    "ax.bar(x_lefts, counts, width=widths, align='edge',\n",
    "       color=\"#b0cfe0\", edgecolor=\"black\", linewidth=0.5)\n",
    "#bars = ax.bar(x_lefts, counts, width=widths, align='edge',\n",
    "#              color=\"#b0cfe0\", edgecolor=\"black\", linewidth=0.5)\n",
    "\n",
    "# x軸ラベル設定\n",
    "xticks = [-3, -2, -1, 0, 1, 2, 3, 4, 5]\n",
    "ax.set_xticks(xticks)\n",
    "ax.set_xticklabels([str(x) for x in xticks])\n",
    "\n",
    "# 軸ラベル\n",
    "ax.set_xlabel(\"ΔG (MLE, BAR) [kcal/mol]\")\n",
    "ax.set_ylabel(\"Frequency\")\n",
    "\n",
    "# 各バーの上に個数表示\n",
    "#ax.bar_label(bars, labels=[str(c) for c in counts], fontsize=7, padding=2)\n",
    "\n",
    "# 軸と枠線の設定\n",
    "ax.tick_params(direction=\"in\")\n",
    "for spine in ax.spines.values():\n",
    "    spine.set_visible(True)\n",
    "\n",
    "# レイアウト調整と保存\n",
    "plt.tight_layout()\n",
    "plt.savefig(\"core4_Mpocket_NES_deltaG_histogram.svg\")\n",
    "plt.show()\n"
   ]
  },
  {
   "cell_type": "code",
   "execution_count": 11,
   "id": "8bcc6fac-fe7b-45fe-b09a-66778094de33",
   "metadata": {},
   "outputs": [
    {
     "name": "stdout",
     "output_type": "stream",
     "text": [
      "110    2.671\n",
      "Name: S+logP, dtype: float64\n"
     ]
    }
   ],
   "source": [
    "import pandas as pd\n",
    "\n",
    "# データ読み込み\n",
    "df = pd.read_csv(\"core4_R2_NES_20250416_matome_20250516.csv\")\n",
    "\n",
    "# Titleが\"30849-1\"の行を抽出し、S+logP列を表示\n",
    "value = df.loc[df[\"Title\"] == \"30849-1\", \"S+logP\"]\n",
    "\n",
    "print(value)\n"
   ]
  },
  {
   "cell_type": "code",
   "execution_count": 10,
   "id": "05b39753-8a4a-4d23-97a4-35dcde37851b",
   "metadata": {},
   "outputs": [
    {
     "name": "stdout",
     "output_type": "stream",
     "text": [
      "Number of compounds with ΔG < 0: 80\n",
      "Number of SMARTS-matching compounds among them: 37\n"
     ]
    }
   ],
   "source": [
    "import pandas as pd\n",
    "from rdkit.Chem import PandasTools\n",
    "from rdkit import Chem\n",
    "\n",
    "sdf_path = \"Step3_core4_Mpocket_NES_ADME.sdf\"\n",
    "df = PandasTools.LoadSDF(sdf_path)\n",
    "\n",
    "df[\"r_user_DG(MLE)_BAR\"] = pd.to_numeric(df[\"r_user_DG(MLE)_BAR\"], errors=\"coerce\")\n",
    "df_neg = df[df[\"r_user_DG(MLE)_BAR\"] < 0].copy()\n",
    "\n",
    "smarts = \"[#7]1-[#6]-[#6]2:[#6](-[#7]3-[#6]-[#6]-[#6]-[#6]-[#6]-3):[#6](-[#6]#[#7]):[#6](=[#8]):[#7&H1]:[#6]:2-[#6&H1]-[#6]-1\"\n",
    "pattern = Chem.MolFromSmarts(smarts)\n",
    "\n",
    "df_neg[\"mol_from_smiles\"] = df_neg[\"s_user_SMILES\"].apply(Chem.MolFromSmiles)\n",
    "df_neg[\"smarts_match\"] = df_neg[\"mol_from_smiles\"].apply(lambda mol: mol.HasSubstructMatch(pattern) if mol else False)\n",
    "\n",
    "total_below_zero = len(df_neg)\n",
    "match_count = df_neg[\"smarts_match\"].sum()\n",
    "\n",
    "print(f\"Number of compounds with ΔG < 0: {total_below_zero}\")\n",
    "print(f\"Number of SMARTS-matching compounds among them: {match_count}\")"
   ]
  },
  {
   "cell_type": "code",
   "execution_count": 11,
   "id": "e6d2dba9-5981-455a-8edc-6050672fb8b0",
   "metadata": {},
   "outputs": [
    {
     "name": "stdout",
     "output_type": "stream",
     "text": [
      "         ID  r_user_DG(MLE)_BAR  rank_DG       r_user_S+logP r_user_SBE  \\\n",
      "79  30849-1               -1.76     18.0  2.6710979034178202      -1.76   \n",
      "\n",
      "    r_user_glide_gscore      r_user_S+Sw_uM    r_user_MPO_score  \n",
      "79  -7.4480000000000004  582.79443268141699  2.2494320123684202  \n"
     ]
    },
    {
     "data": {
      "image/png": "[encoded data removed]",
      "text/plain": [
       "<PIL.PngImagePlugin.PngImageFile image mode=RGB size=300x300>"
      ]
     },
     "execution_count": 11,
     "metadata": {},
     "output_type": "execute_result"
    }
   ],
   "source": [
    "import pandas as pd\n",
    "from rdkit.Chem import PandasTools\n",
    "from rdkit import Chem\n",
    "from rdkit.Chem import Draw\n",
    "\n",
    "# Load the SDF file\n",
    "sdf_path = \"Step3_core4_Mpocket_NES_ADME.sdf\"\n",
    "df = PandasTools.LoadSDF(sdf_path)\n",
    "\n",
    "# Ensure numeric conversion for ranking\n",
    "df[\"r_user_DG(MLE)_BAR\"] = pd.to_numeric(df[\"r_user_DG(MLE)_BAR\"], errors=\"coerce\")\n",
    "\n",
    "# Rank the ΔG values (lower is better)\n",
    "df[\"rank_DG\"] = df[\"r_user_DG(MLE)_BAR\"].rank(method=\"min\", ascending=True)\n",
    "\n",
    "# Filter for the target compound\n",
    "compound = df[df[\"ID\"] == \"30849-1\"].copy()\n",
    "\n",
    "# Extract desired fields\n",
    "columns_of_interest = [\n",
    "    \"ID\",                     # Title\n",
    "    \"r_user_DG(MLE)_BAR\",     # Binding free energy\n",
    "    \"rank_DG\",                # Rank of ΔG\n",
    "    \"r_user_S+logP\",          # logP\n",
    "    \"r_user_SBE\",             # Substituent Binding Efficiency\n",
    "    \"r_user_glide_gscore\",    # Glide score\n",
    "    \"r_user_S+Sw_uM\",         # Predicted solubility\n",
    "    \"r_user_MPO_score\",       # MPO score\n",
    "]\n",
    "\n",
    "# Print properties\n",
    "print(compound[columns_of_interest])\n",
    "\n",
    "# Generate and show molecular structure from SMILES\n",
    "mol = Chem.MolFromSmiles(compound[\"s_user_SMILES\"].values[0])\n",
    "Draw.MolToImage(mol, legend=\"30849-1\")\n"
   ]
  },
  {
   "cell_type": "code",
   "execution_count": 14,
   "id": "46eaad0e-a16c-4ead-a357-ae74ffa47193",
   "metadata": {},
   "outputs": [
    {
     "name": "stdout",
     "output_type": "stream",
     "text": [
      "         ID  r_user_SBE  rank_SBE\n",
      "79  30849-1       -1.76       8.0\n"
     ]
    }
   ],
   "source": [
    "import pandas as pd\n",
    "from rdkit.Chem import PandasTools\n",
    "\n",
    "# Load SDF\n",
    "sdf_path = \"Step3_core4_Mpocket_NES_ADME.sdf\"\n",
    "df = PandasTools.LoadSDF(sdf_path)\n",
    "\n",
    "# Convert to numeric\n",
    "df[\"r_user_SBE\"] = pd.to_numeric(df[\"r_user_SBE\"], errors=\"coerce\")\n",
    "\n",
    "# Rank SBE values (higher is better ⇒ descending=False gives lowest = rank 1)\n",
    "df[\"rank_SBE\"] = df[\"r_user_SBE\"].rank(method=\"min\", ascending=True)\n",
    "\n",
    "# Get compound info\n",
    "compound = df[df[\"ID\"] == \"30849-1\"].copy()\n",
    "\n",
    "# Show SBE value and its rank\n",
    "print(compound[[\"ID\", \"r_user_SBE\", \"rank_SBE\"]])\n"
   ]
  },
  {
   "cell_type": "code",
   "execution_count": 15,
   "id": "40b2230e-be26-4dae-aa87-827d5dc9a3e1",
   "metadata": {},
   "outputs": [
    {
     "name": "stdout",
     "output_type": "stream",
     "text": [
      "         ID  r_user_glide_gscore  rank_glide\n",
      "79  30849-1               -7.448       877.0\n"
     ]
    }
   ],
   "source": [
    "import pandas as pd\n",
    "from rdkit.Chem import PandasTools\n",
    "\n",
    "# Load the SDF\n",
    "sdf_path = \"Step3_core4_Mpocket_NES_ADME.sdf\"\n",
    "df = PandasTools.LoadSDF(sdf_path)\n",
    "\n",
    "# Convert to numeric\n",
    "df[\"r_user_glide_gscore\"] = pd.to_numeric(df[\"r_user_glide_gscore\"], errors=\"coerce\")\n",
    "\n",
    "# Rank the Glide scores (lower score = better rank ⇒ ascending=True)\n",
    "df[\"rank_glide\"] = df[\"r_user_glide_gscore\"].rank(method=\"min\", ascending=True)\n",
    "\n",
    "# Extract info for compound \"30849-1\"\n",
    "compound = df[df[\"ID\"] == \"30849-1\"].copy()\n",
    "\n",
    "# Display result\n",
    "print(compound[[\"ID\", \"r_user_glide_gscore\", \"rank_glide\"]])\n"
   ]
  },
  {
   "cell_type": "code",
   "execution_count": 16,
   "id": "8e2361d4-f2a4-4ac4-a4a7-d74725c837d8",
   "metadata": {},
   "outputs": [
    {
     "name": "stdout",
     "output_type": "stream",
     "text": [
      "         ID  r_user_glide_gscore  rank_glide\n",
      "79  30849-1               -7.448       876.0\n"
     ]
    }
   ],
   "source": [
    "import pandas as pd\n",
    "from rdkit.Chem import PandasTools\n",
    "\n",
    "# Load SDF\n",
    "sdf_path = \"Step3_core4_Mpocket_NES_ADME.sdf\"\n",
    "df = PandasTools.LoadSDF(sdf_path)\n",
    "\n",
    "# Convert to numeric\n",
    "df[\"r_user_glide_gscore\"] = pd.to_numeric(df[\"r_user_glide_gscore\"], errors=\"coerce\")\n",
    "\n",
    "# Exclude \"13-99\" and drop NaNs\n",
    "df_filtered = df[(df[\"ID\"] != \"13-99\") & df[\"r_user_glide_gscore\"].notna()].copy()\n",
    "\n",
    "# Compute GlideScore rank (lower is better)\n",
    "df_filtered[\"rank_glide\"] = df_filtered[\"r_user_glide_gscore\"].rank(method=\"min\", ascending=True)\n",
    "\n",
    "# Get the rank for \"30849-1\"\n",
    "compound = df_filtered[df_filtered[\"ID\"] == \"30849-1\"]\n",
    "\n",
    "# Display result\n",
    "print(compound[[\"ID\", \"r_user_glide_gscore\", \"rank_glide\"]])\n"
   ]
  }
 ],
 "metadata": {
  "kernelspec": {
   "display_name": "rdkit",
   "language": "python",
   "name": "rdkit"
  },
  "language_info": {
   "codemirror_mode": {
    "name": "ipython",
    "version": 3
   },
   "file_extension": ".py",
   "mimetype": "text/x-python",
   "name": "python",
   "nbconvert_exporter": "python",
   "pygments_lexer": "ipython3",
   "version": "3.11.3"
  }
 },
 "nbformat": 4,
 "nbformat_minor": 5
}
